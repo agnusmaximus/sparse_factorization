{
 "cells": [
  {
   "cell_type": "code",
   "execution_count": 2,
   "metadata": {},
   "outputs": [
    {
     "name": "stdout",
     "output_type": "stream",
     "text": [
      "The autoreload extension is already loaded. To reload it, use:\n",
      "  %reload_ext autoreload\n"
     ]
    }
   ],
   "source": [
    "%load_ext autoreload\n",
    "%autoreload 2\n",
    "%reload_ext autoreload\n",
    "%matplotlib inline\n",
    "from SparseFactorization.sparse_factorization import *\n",
    "import tensorflow as tf\n",
    "import matplotlib\n",
    "import matplotlib.pyplot as plt\n",
    "import math\n",
    "import numpy as np"
   ]
  },
  {
   "cell_type": "code",
   "execution_count": 23,
   "metadata": {},
   "outputs": [
    {
     "data": {
      "text/plain": [
       "(6.123233995736766e-17+1j)"
      ]
     },
     "execution_count": 23,
     "metadata": {},
     "output_type": "execute_result"
    }
   ],
   "source": [
    "# Define roots of unity\n",
    "def w_n(n):\n",
    "    return np.e**((2 * np.pi * 1j) / n)\n",
    "\n",
    "w_n(4)"
   ]
  },
  {
   "cell_type": "code",
   "execution_count": 39,
   "metadata": {},
   "outputs": [
    {
     "data": {
      "text/plain": [
       "array([[1.+0.00000000e+00j, 0.+0.00000000e+00j, 0.+0.00000000e+00j,\n",
       "        0.+0.00000000e+00j],\n",
       "       [0.+0.00000000e+00j, 1.+2.44929360e-16j, 0.+0.00000000e+00j,\n",
       "        0.+0.00000000e+00j],\n",
       "       [0.+0.00000000e+00j, 0.+0.00000000e+00j, 1.+2.44929360e-16j,\n",
       "        0.+0.00000000e+00j],\n",
       "       [0.+0.00000000e+00j, 0.+0.00000000e+00j, 0.+0.00000000e+00j,\n",
       "        1.+6.10622664e-16j]])"
      ]
     },
     "execution_count": 39,
     "metadata": {},
     "output_type": "execute_result"
    }
   ],
   "source": [
    "# Omegas\n",
    "def Omega_n(n):\n",
    "    values = [w_n(i)**(-i) if i >= 1 else 1 for i in range(n)]\n",
    "    return np.diag(values)\n",
    "\n",
    "Omega_n(4)"
   ]
  },
  {
   "cell_type": "code",
   "execution_count": 40,
   "metadata": {},
   "outputs": [
    {
     "data": {
      "text/plain": [
       "array([[ 1.+0.0000000e+00j,  0.+0.0000000e+00j,  1.+0.0000000e+00j,\n",
       "         0.+0.0000000e+00j],\n",
       "       [ 0.+0.0000000e+00j,  1.+0.0000000e+00j,  0.+0.0000000e+00j,\n",
       "         1.+2.4492936e-16j],\n",
       "       [ 1.+0.0000000e+00j,  0.+0.0000000e+00j, -1.-0.0000000e+00j,\n",
       "        -0.-0.0000000e+00j],\n",
       "       [ 0.+0.0000000e+00j,  1.+0.0000000e+00j, -0.-0.0000000e+00j,\n",
       "        -1.-2.4492936e-16j]])"
      ]
     },
     "execution_count": 40,
     "metadata": {},
     "output_type": "execute_result"
    }
   ],
   "source": [
    "# Define B_2 and B_4\n",
    "def B_n(n):\n",
    "    \n",
    "    # Identities\n",
    "    ident = np.eye(n//2)\n",
    "    stacked_idnt = np.concatenate([ident, ident], axis=0)\n",
    "    \n",
    "    # Omegas\n",
    "    o1 = Omega_n(n//2)\n",
    "    o2 = -Omega_n(n//2)\n",
    "    stacked_omeg = np.concatenate([o1, o2], axis=0)\n",
    "    \n",
    "    return np.concatenate([stacked_idnt, stacked_omeg], axis=1)\n",
    "\n",
    "B_n(4)"
   ]
  },
  {
   "cell_type": "code",
   "execution_count": 41,
   "metadata": {},
   "outputs": [
    {
     "data": {
      "text/plain": [
       "array([[ 1.+0.00000000e+00j,  1.+0.00000000e+00j,  1.+0.00000000e+00j,\n",
       "         1.+0.00000000e+00j,  1.+0.00000000e+00j,  1.+0.00000000e+00j,\n",
       "         1.+0.00000000e+00j,  1.+0.00000000e+00j],\n",
       "       [ 1.+0.00000000e+00j,  1.+2.44929360e-16j,  1.+2.44929360e-16j,\n",
       "         1.+4.89858720e-16j, -1.+0.00000000e+00j, -1.-2.44929360e-16j,\n",
       "        -1.-2.44929360e-16j, -1.-4.89858720e-16j],\n",
       "       [ 1.+0.00000000e+00j,  1.+2.44929360e-16j, -1.+0.00000000e+00j,\n",
       "        -1.-2.44929360e-16j,  1.+0.00000000e+00j,  1.+2.44929360e-16j,\n",
       "        -1.+0.00000000e+00j, -1.-2.44929360e-16j],\n",
       "       [ 1.+0.00000000e+00j,  1.+6.10622664e-16j, -1.-2.44929360e-16j,\n",
       "        -1.-8.55552023e-16j, -1.+0.00000000e+00j, -1.-6.10622664e-16j,\n",
       "         1.+2.44929360e-16j,  1.+8.55552023e-16j],\n",
       "       [ 1.+0.00000000e+00j, -1.+0.00000000e+00j,  1.+0.00000000e+00j,\n",
       "        -1.+0.00000000e+00j,  1.+0.00000000e+00j, -1.+0.00000000e+00j,\n",
       "         1.+0.00000000e+00j, -1.+0.00000000e+00j],\n",
       "       [ 1.+0.00000000e+00j, -1.-2.44929360e-16j,  1.+2.44929360e-16j,\n",
       "        -1.-4.89858720e-16j, -1.+0.00000000e+00j,  1.+2.44929360e-16j,\n",
       "        -1.-2.44929360e-16j,  1.+4.89858720e-16j],\n",
       "       [ 1.+0.00000000e+00j, -1.-2.44929360e-16j, -1.+0.00000000e+00j,\n",
       "         1.+2.44929360e-16j,  1.+0.00000000e+00j, -1.-2.44929360e-16j,\n",
       "        -1.+0.00000000e+00j,  1.+2.44929360e-16j],\n",
       "       [ 1.+0.00000000e+00j, -1.-6.10622664e-16j, -1.-2.44929360e-16j,\n",
       "         1.+8.55552023e-16j, -1.+0.00000000e+00j,  1.+6.10622664e-16j,\n",
       "         1.+2.44929360e-16j, -1.-8.55552023e-16j]])"
      ]
     },
     "execution_count": 41,
     "metadata": {},
     "output_type": "execute_result"
    }
   ],
   "source": [
    "# Define F_8 and F_4\n",
    "def F_8():\n",
    "    # First b8 factor\n",
    "    B_8 = B_n(8)\n",
    "    \n",
    "    # Stack b4s\n",
    "    B_4 = B_n(4)\n",
    "    rows = []    \n",
    "    for i in range(2):\n",
    "        row = [np.zeros(B_4.shape) for j in range(i)] + [B_4] + [np.zeros(B_4.shape) for j in range(2-i-1)]\n",
    "        rows.append(np.concatenate(row, axis=1))\n",
    "    B_4_factor = np.concatenate(rows, axis=0)\n",
    "    \n",
    "    # Stack b2s\n",
    "    B_2 = B_n(2)\n",
    "    rows = []\n",
    "    for i in range(4):\n",
    "        row = [np.zeros(B_2.shape) for j in range(i)] + [B_2] + [np.zeros(B_2.shape) for j in range(4-i-1)]\n",
    "        rows.append(np.concatenate(row, axis=1))\n",
    "    B_2_factor = np.concatenate(rows, axis=0)\n",
    "    \n",
    "    # Permutation matrix\n",
    "    perm = np.array([\n",
    "        [1, 0, 0, 0, 0, 0, 0, 0],\n",
    "        [0, 0, 0, 0, 1, 0, 0, 0],\n",
    "        [0, 0, 1, 0 ,0 ,0 ,0 ,0],\n",
    "        [0, 0, 0, 0, 0, 0, 1, 0],\n",
    "        [0, 1, 0, 0, 0, 0, 0, 0],\n",
    "        [0, 0, 0, 0, 0, 1, 0, 0],\n",
    "        [0, 0, 0, 1, 0, 0, 0, 0],\n",
    "        [0, 0, 0, 0, 0, 0, 0, 1]\n",
    "    ])\n",
    "    \n",
    "    return B_8.dot(B_4_factor).dot(B_2_factor).dot(perm)\n",
    "    \n",
    "F_8()"
   ]
  },
  {
   "cell_type": "code",
   "execution_count": null,
   "metadata": {},
   "outputs": [],
   "source": []
  },
  {
   "cell_type": "code",
   "execution_count": null,
   "metadata": {},
   "outputs": [],
   "source": []
  },
  {
   "cell_type": "code",
   "execution_count": null,
   "metadata": {},
   "outputs": [],
   "source": []
  }
 ],
 "metadata": {
  "kernelspec": {
   "display_name": "Python 3",
   "language": "python",
   "name": "python3"
  },
  "language_info": {
   "codemirror_mode": {
    "name": "ipython",
    "version": 3
   },
   "file_extension": ".py",
   "mimetype": "text/x-python",
   "name": "python",
   "nbconvert_exporter": "python",
   "pygments_lexer": "ipython3",
   "version": "3.5.2"
  }
 },
 "nbformat": 4,
 "nbformat_minor": 2
}
