{
 "cells": [
  {
   "cell_type": "code",
   "execution_count": 1,
   "metadata": {},
   "outputs": [
    {
     "name": "stderr",
     "output_type": "stream",
     "text": [
      "/dfs/scratch0/maxlam/env3/lib/python3.5/site-packages/h5py/__init__.py:36: FutureWarning: Conversion of the second argument of issubdtype from `float` to `np.floating` is deprecated. In future, it will be treated as `np.float64 == np.dtype(float).type`.\n",
      "  from ._conv import register_converters as _register_converters\n"
     ]
    }
   ],
   "source": [
    "# Test if TF can multiply 2 complex matrices\n",
    "import tensorflow as tf\n",
    "import sys\n",
    "import numpy as np"
   ]
  },
  {
   "cell_type": "code",
   "execution_count": 13,
   "metadata": {},
   "outputs": [],
   "source": [
    "# Create placeholders\n",
    "A_real_placeholder = tf.placeholder(dtype=tf.float32)\n",
    "A_complex_placeholder = tf.placeholder(dtype=tf.float32)\n",
    "B_real_placeholder = tf.placeholder(dtype=tf.float32)\n",
    "B_complex_placeholder = tf.placeholder(dtype=tf.float32)\n",
    "\n",
    "A = tf.complex(A_real_placeholder, A_complex_placeholder)\n",
    "B = tf.complex(B_real_placeholder, B_complex_placeholder)\n",
    "\n",
    "# Create matmul\n",
    "C = tf.matmul(A, B)"
   ]
  },
  {
   "cell_type": "code",
   "execution_count": 28,
   "metadata": {},
   "outputs": [
    {
     "name": "stdout",
     "output_type": "stream",
     "text": [
      "Expected first element at 0,0 -1.275929064591112 1.9731951771000715\n"
     ]
    },
    {
     "data": {
      "text/plain": [
       "[array([[-1.6138978 -0.51080513j, -0.21274029-1.1806322j ],\n",
       "        [-0.89546657-0.02818223j,  0.3869025 +0.42833188j]],\n",
       "       dtype=complex64),\n",
       " array([[ 0.06651722-0.67246044j,  0.3024719 -0.35955316j],\n",
       "        [-0.6343221 -0.8131463j , -0.36274117-1.7262826j ]],\n",
       "       dtype=complex64),\n",
       " array([[-1.2759291+1.9731952j , -2.6327555+1.2212915j ],\n",
       "        [ 0.0243603+0.01398247j,  0.3180899-0.5098331j ]], dtype=complex64)]"
      ]
     },
     "execution_count": 28,
     "metadata": {},
     "output_type": "execute_result"
    }
   ],
   "source": [
    "sess = tf.Session()\n",
    "\n",
    "# Create 2 complex matrices\n",
    "A_real = np.random.randn(2, 2)\n",
    "A_complex = np.random.randn(2, 2)\n",
    "B_real = np.random.randn(2, 2)\n",
    "B_complex = np.random.randn(2, 2)\n",
    "\n",
    "# Sanity check the first element of the matrix\n",
    "a, b, c, d = A_real[0,0], A_complex[0,0], B_real[0,0], B_complex[0,0]\n",
    "aa, bb, cc, dd = A_real[0,1], A_complex[0,1], B_real[1,0], B_complex[1,0]\n",
    "a_first_real, a_first_complex = a*c-b*d, a*d+b*c\n",
    "aa_first_real, aa_first_complex = aa*cc-bb*dd, aa*dd+bb*cc\n",
    "print(\"Expected first element at 0,0\", a_first_real+aa_first_real, a_first_complex+aa_first_complex)\n",
    "\n",
    "sess.run([A, B, C], feed_dict={\n",
    "    A_real_placeholder : A_real,\n",
    "    A_complex_placeholder : A_complex,\n",
    "    B_real_placeholder : B_real,\n",
    "    B_complex_placeholder : B_complex,\n",
    "})"
   ]
  },
  {
   "cell_type": "code",
   "execution_count": null,
   "metadata": {},
   "outputs": [],
   "source": []
  },
  {
   "cell_type": "code",
   "execution_count": null,
   "metadata": {},
   "outputs": [],
   "source": []
  }
 ],
 "metadata": {
  "kernelspec": {
   "display_name": "Python 3",
   "language": "python",
   "name": "python3"
  },
  "language_info": {
   "codemirror_mode": {
    "name": "ipython",
    "version": 3
   },
   "file_extension": ".py",
   "mimetype": "text/x-python",
   "name": "python",
   "nbconvert_exporter": "python",
   "pygments_lexer": "ipython3",
   "version": "3.5.2"
  }
 },
 "nbformat": 4,
 "nbformat_minor": 2
}
